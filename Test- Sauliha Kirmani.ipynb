{
 "cells": [
  {
   "cell_type": "code",
   "execution_count": 2,
   "id": "200e96c8-f477-46fd-a669-66cb2fb46634",
   "metadata": {},
   "outputs": [],
   "source": [
    "#importing relevant \n",
    "import pandas as pd\n",
    "import numpy as np\n",
    "import matplotlib.pyplot as plt\n",
    "%matplotlib inline\n",
    "import seaborn as sns\n",
    "import random"
   ]
  },
  {
   "cell_type": "code",
   "execution_count": 3,
   "id": "ad925f08-c50c-40b0-932f-5e20f15c1fb4",
   "metadata": {},
   "outputs": [],
   "source": [
    "#Uploading data file\n",
    "df= pd.read_csv(r'C:\\Users\\MSI\\AppData\\Local\\Packages\\microsoft.windowscommunicationsapps_8wekyb3d8bbwe\\LocalState\\Files\\S0\\4\\Attachments\\testData.csv')"
   ]
  },
  {
   "cell_type": "code",
   "execution_count": 4,
   "id": "c84f735b-92a6-4186-857e-a24ea863720b",
   "metadata": {},
   "outputs": [
    {
     "data": {
      "text/plain": [
       "(102, 12)"
      ]
     },
     "execution_count": 4,
     "metadata": {},
     "output_type": "execute_result"
    }
   ],
   "source": [
    "df.shape    #Returns number of (rows, columns) in the data"
   ]
  },
  {
   "cell_type": "code",
   "execution_count": 5,
   "id": "acb77aaa-5bdf-4855-9ba5-008078c8c9ee",
   "metadata": {},
   "outputs": [
    {
     "name": "stdout",
     "output_type": "stream",
     "text": [
      "<class 'pandas.core.frame.DataFrame'>\n",
      "RangeIndex: 102 entries, 0 to 101\n",
      "Data columns (total 12 columns):\n",
      " #   Column                  Non-Null Count  Dtype \n",
      "---  ------                  --------------  ----- \n",
      " 0   disclosureYear          102 non-null    int64 \n",
      " 1   disclosureDate          102 non-null    object\n",
      " 2   transactionDate         102 non-null    object\n",
      " 3   owner                   102 non-null    object\n",
      " 4   ticker                  102 non-null    object\n",
      " 5   assetDescription        102 non-null    object\n",
      " 6   type                    102 non-null    object\n",
      " 7   amount                  102 non-null    object\n",
      " 8   representative          102 non-null    object\n",
      " 9   district                102 non-null    object\n",
      " 10  capitalGainsOver200USD  102 non-null    object\n",
      " 11  option_symbol           2 non-null      object\n",
      "dtypes: int64(1), object(11)\n",
      "memory usage: 9.7+ KB\n"
     ]
    }
   ],
   "source": [
    "df.info()"
   ]
  },
  {
   "cell_type": "code",
   "execution_count": 6,
   "id": "87dc5201-09e9-4953-9fdb-ea3efe8e451c",
   "metadata": {},
   "outputs": [
    {
     "name": "stdout",
     "output_type": "stream",
     "text": [
      "<class 'pandas.core.frame.DataFrame'>\n",
      "RangeIndex: 102 entries, 0 to 101\n",
      "Data columns (total 11 columns):\n",
      " #   Column                  Non-Null Count  Dtype \n",
      "---  ------                  --------------  ----- \n",
      " 0   disclosureYear          102 non-null    int64 \n",
      " 1   disclosureDate          102 non-null    object\n",
      " 2   transactionDate         102 non-null    object\n",
      " 3   owner                   102 non-null    object\n",
      " 4   ticker                  102 non-null    object\n",
      " 5   assetDescription        102 non-null    object\n",
      " 6   type                    102 non-null    object\n",
      " 7   amount                  102 non-null    object\n",
      " 8   representative          102 non-null    object\n",
      " 9   district                102 non-null    object\n",
      " 10  capitalGainsOver200USD  102 non-null    object\n",
      "dtypes: int64(1), object(10)\n",
      "memory usage: 8.9+ KB\n"
     ]
    }
   ],
   "source": [
    "# Column 'option_symbol' has only 2 non-null values, making it irrelevant for further analysis\n",
    "# Removing column 'option_symbol' \n",
    "df.drop(df.columns[11:], axis=1, inplace= True)\n",
    "df.info()"
   ]
  },
  {
   "cell_type": "code",
   "execution_count": 7,
   "id": "9edd0437-1126-4441-aa3b-130d2575edd6",
   "metadata": {},
   "outputs": [],
   "source": [
    "#Changing data types as required\n",
    "df['transactionDate']=pd.to_datetime(df['transactionDate'])\n",
    "df['ticker']= df['ticker'].astype('string').rename({'ticker': 'symbol'})\n",
    "df['type']=df['type'].astype('string').rename({'type': 'side'})\n",
    "df['size']= 1\n",
    "df['size']= df['size'].astype(float)\n",
    "df.rename(columns={'transactionDate': 'Date', 'ticker': 'symbol', 'type': 'side'}, inplace= True)"
   ]
  },
  {
   "cell_type": "code",
   "execution_count": 8,
   "id": "03c6a363-bc60-4f2e-a873-b6b300f324f6",
   "metadata": {},
   "outputs": [
    {
     "data": {
      "text/html": [
       "<div>\n",
       "<style scoped>\n",
       "    .dataframe tbody tr th:only-of-type {\n",
       "        vertical-align: middle;\n",
       "    }\n",
       "\n",
       "    .dataframe tbody tr th {\n",
       "        vertical-align: top;\n",
       "    }\n",
       "\n",
       "    .dataframe thead th {\n",
       "        text-align: right;\n",
       "    }\n",
       "</style>\n",
       "<table border=\"1\" class=\"dataframe\">\n",
       "  <thead>\n",
       "    <tr style=\"text-align: right;\">\n",
       "      <th></th>\n",
       "      <th>disclosureYear</th>\n",
       "      <th>disclosureDate</th>\n",
       "      <th>Date</th>\n",
       "      <th>owner</th>\n",
       "      <th>symbol</th>\n",
       "      <th>assetDescription</th>\n",
       "      <th>side</th>\n",
       "      <th>amount</th>\n",
       "      <th>representative</th>\n",
       "      <th>district</th>\n",
       "      <th>capitalGainsOver200USD</th>\n",
       "      <th>size</th>\n",
       "    </tr>\n",
       "  </thead>\n",
       "  <tbody>\n",
       "    <tr>\n",
       "      <th>0</th>\n",
       "      <td>2023</td>\n",
       "      <td>6/15/2023</td>\n",
       "      <td>2023-05-20</td>\n",
       "      <td>Spouse</td>\n",
       "      <td>AAPL</td>\n",
       "      <td>Apple Inc. Stock</td>\n",
       "      <td>Purchase</td>\n",
       "      <td>$100,001 - $250,000</td>\n",
       "      <td>Nancy Pelosi</td>\n",
       "      <td>CA-12</td>\n",
       "      <td>Yes</td>\n",
       "      <td>1.0</td>\n",
       "    </tr>\n",
       "    <tr>\n",
       "      <th>1</th>\n",
       "      <td>2023</td>\n",
       "      <td>5/12/2023</td>\n",
       "      <td>2023-04-10</td>\n",
       "      <td>Self</td>\n",
       "      <td>GOOGL</td>\n",
       "      <td>Alphabet Inc. Stock</td>\n",
       "      <td>Sale (Full)</td>\n",
       "      <td>$50,001 - $100,000</td>\n",
       "      <td>Nancy Pelosi</td>\n",
       "      <td>CA-12</td>\n",
       "      <td>No</td>\n",
       "      <td>1.0</td>\n",
       "    </tr>\n",
       "    <tr>\n",
       "      <th>2</th>\n",
       "      <td>2023</td>\n",
       "      <td>12/29/2023</td>\n",
       "      <td>2022-12-06</td>\n",
       "      <td>Dependent</td>\n",
       "      <td>AMZN</td>\n",
       "      <td>AMZN Stock</td>\n",
       "      <td>Purchase</td>\n",
       "      <td>$100,001 - $250,000</td>\n",
       "      <td>Nancy Pelosi</td>\n",
       "      <td>NY-14</td>\n",
       "      <td>Yes</td>\n",
       "      <td>1.0</td>\n",
       "    </tr>\n",
       "    <tr>\n",
       "      <th>3</th>\n",
       "      <td>2023</td>\n",
       "      <td>2/13/2022</td>\n",
       "      <td>2022-04-14</td>\n",
       "      <td>Self</td>\n",
       "      <td>AMZN</td>\n",
       "      <td>AMZN Stock</td>\n",
       "      <td>Purchase</td>\n",
       "      <td>$100,001 - $250,000</td>\n",
       "      <td>Nancy Pelosi</td>\n",
       "      <td>FL-9</td>\n",
       "      <td>No</td>\n",
       "      <td>1.0</td>\n",
       "    </tr>\n",
       "    <tr>\n",
       "      <th>4</th>\n",
       "      <td>2023</td>\n",
       "      <td>6/23/2023</td>\n",
       "      <td>2022-03-11</td>\n",
       "      <td>Joint</td>\n",
       "      <td>MSFT</td>\n",
       "      <td>MSFT Stock</td>\n",
       "      <td>Purchase</td>\n",
       "      <td>$1,001 - $15,000</td>\n",
       "      <td>Nancy Pelosi</td>\n",
       "      <td>CA-12</td>\n",
       "      <td>Yes</td>\n",
       "      <td>1.0</td>\n",
       "    </tr>\n",
       "    <tr>\n",
       "      <th>5</th>\n",
       "      <td>2023</td>\n",
       "      <td>9/22/2022</td>\n",
       "      <td>2023-03-05</td>\n",
       "      <td>Self</td>\n",
       "      <td>GOOGL</td>\n",
       "      <td>GOOGL Stock</td>\n",
       "      <td>Sale (Full)</td>\n",
       "      <td>$50,001 - $100,000</td>\n",
       "      <td>Nancy Pelosi</td>\n",
       "      <td>CA-12</td>\n",
       "      <td>No</td>\n",
       "      <td>1.0</td>\n",
       "    </tr>\n",
       "  </tbody>\n",
       "</table>\n",
       "</div>"
      ],
      "text/plain": [
       "   disclosureYear disclosureDate       Date      owner symbol  \\\n",
       "0            2023      6/15/2023 2023-05-20     Spouse   AAPL   \n",
       "1            2023      5/12/2023 2023-04-10       Self  GOOGL   \n",
       "2            2023     12/29/2023 2022-12-06  Dependent   AMZN   \n",
       "3            2023      2/13/2022 2022-04-14       Self   AMZN   \n",
       "4            2023      6/23/2023 2022-03-11      Joint   MSFT   \n",
       "5            2023      9/22/2022 2023-03-05       Self  GOOGL   \n",
       "\n",
       "      assetDescription         side               amount representative  \\\n",
       "0     Apple Inc. Stock     Purchase  $100,001 - $250,000   Nancy Pelosi   \n",
       "1  Alphabet Inc. Stock  Sale (Full)   $50,001 - $100,000   Nancy Pelosi   \n",
       "2           AMZN Stock     Purchase  $100,001 - $250,000   Nancy Pelosi   \n",
       "3           AMZN Stock     Purchase  $100,001 - $250,000   Nancy Pelosi   \n",
       "4           MSFT Stock     Purchase     $1,001 - $15,000   Nancy Pelosi   \n",
       "5          GOOGL Stock  Sale (Full)   $50,001 - $100,000   Nancy Pelosi   \n",
       "\n",
       "  district capitalGainsOver200USD  size  \n",
       "0    CA-12                    Yes   1.0  \n",
       "1    CA-12                     No   1.0  \n",
       "2    NY-14                    Yes   1.0  \n",
       "3     FL-9                     No   1.0  \n",
       "4    CA-12                    Yes   1.0  \n",
       "5    CA-12                     No   1.0  "
      ]
     },
     "execution_count": 8,
     "metadata": {},
     "output_type": "execute_result"
    }
   ],
   "source": [
    "df.head(6)"
   ]
  },
  {
   "cell_type": "code",
   "execution_count": 9,
   "id": "f1bc0263-fa3a-4b37-bfa3-b5a1e47135f7",
   "metadata": {},
   "outputs": [
    {
     "name": "stdout",
     "output_type": "stream",
     "text": [
      "<class 'pandas.core.frame.DataFrame'>\n",
      "RangeIndex: 102 entries, 0 to 101\n",
      "Data columns (total 12 columns):\n",
      " #   Column                  Non-Null Count  Dtype         \n",
      "---  ------                  --------------  -----         \n",
      " 0   disclosureYear          102 non-null    int64         \n",
      " 1   disclosureDate          102 non-null    object        \n",
      " 2   Date                    102 non-null    datetime64[ns]\n",
      " 3   owner                   102 non-null    object        \n",
      " 4   symbol                  102 non-null    string        \n",
      " 5   assetDescription        102 non-null    object        \n",
      " 6   side                    102 non-null    string        \n",
      " 7   amount                  102 non-null    object        \n",
      " 8   representative          102 non-null    object        \n",
      " 9   district                102 non-null    object        \n",
      " 10  capitalGainsOver200USD  102 non-null    object        \n",
      " 11  size                    102 non-null    float64       \n",
      "dtypes: datetime64[ns](1), float64(1), int64(1), object(7), string(2)\n",
      "memory usage: 9.7+ KB\n"
     ]
    }
   ],
   "source": [
    "df.info()"
   ]
  },
  {
   "cell_type": "code",
   "execution_count": 10,
   "id": "6b6d5bc0-7284-47cc-97d0-90fc4696888c",
   "metadata": {},
   "outputs": [
    {
     "name": "stdout",
     "output_type": "stream",
     "text": [
      "<class 'pandas.core.frame.DataFrame'>\n",
      "RangeIndex: 102 entries, 0 to 101\n",
      "Data columns (total 13 columns):\n",
      " #   Column                  Non-Null Count  Dtype         \n",
      "---  ------                  --------------  -----         \n",
      " 0   disclosureYear          102 non-null    int64         \n",
      " 1   disclosureDate          102 non-null    object        \n",
      " 2   Date                    102 non-null    datetime64[ns]\n",
      " 3   owner                   102 non-null    object        \n",
      " 4   symbol                  102 non-null    string        \n",
      " 5   assetDescription        102 non-null    object        \n",
      " 6   side                    102 non-null    string        \n",
      " 7   amount                  102 non-null    object        \n",
      " 8   representative          102 non-null    object        \n",
      " 9   district                102 non-null    object        \n",
      " 10  capitalGainsOver200USD  102 non-null    object        \n",
      " 11  size                    102 non-null    float64       \n",
      " 12  Avg_Amount              102 non-null    float64       \n",
      "dtypes: datetime64[ns](1), float64(2), int64(1), object(7), string(2)\n",
      "memory usage: 10.5+ KB\n"
     ]
    }
   ],
   "source": [
    "#Since 'amount' is given as interval, calculating average amount enables to use it for analysis\n",
    "def calculate_midpoint(interval):\n",
    "    low, high = [i.strip('$ ').replace(',', '') for i in interval.split('-')]\n",
    "    # Convert to float and calculate the midpoint\n",
    "    low = float(low)\n",
    "    high = float(high)\n",
    "    return (low + high) / 2\n",
    "\n",
    "df['Avg_Amount'] = df['amount'].apply(calculate_midpoint)\n",
    "df.info()"
   ]
  },
  {
   "cell_type": "code",
   "execution_count": 11,
   "id": "fc286f48-fdf3-420f-b12f-4a35dab6255d",
   "metadata": {},
   "outputs": [
    {
     "data": {
      "text/plain": [
       "8.899431802720503"
      ]
     },
     "execution_count": 11,
     "metadata": {},
     "output_type": "execute_result"
    }
   ],
   "source": [
    "#Ticker Price\n",
    "def getTickerPrice(ticker: str, date: pd.Timestamp):\n",
    "    return random.uniform(1, 100)\n",
    "getTickerPrice('GOOGL', 9/22/2022)"
   ]
  },
  {
   "cell_type": "code",
   "execution_count": 12,
   "id": "2b7c7f7d-1a99-4449-be05-a77c51ed7225",
   "metadata": {},
   "outputs": [],
   "source": [
    "#creating a new column 'price' from getTickerPrice() function\n",
    "df['price']= getTickerPrice(df['symbol'], ['date'])"
   ]
  },
  {
   "cell_type": "code",
   "execution_count": 13,
   "id": "6d1430b0-4758-46f8-abdd-78f2187e004b",
   "metadata": {},
   "outputs": [
    {
     "name": "stdout",
     "output_type": "stream",
     "text": [
      "<class 'pandas.core.frame.DataFrame'>\n",
      "RangeIndex: 102 entries, 0 to 101\n",
      "Data columns (total 14 columns):\n",
      " #   Column                  Non-Null Count  Dtype         \n",
      "---  ------                  --------------  -----         \n",
      " 0   disclosureYear          102 non-null    int64         \n",
      " 1   disclosureDate          102 non-null    object        \n",
      " 2   Date                    102 non-null    datetime64[ns]\n",
      " 3   owner                   102 non-null    object        \n",
      " 4   symbol                  102 non-null    string        \n",
      " 5   assetDescription        102 non-null    object        \n",
      " 6   side                    102 non-null    string        \n",
      " 7   amount                  102 non-null    object        \n",
      " 8   representative          102 non-null    object        \n",
      " 9   district                102 non-null    object        \n",
      " 10  capitalGainsOver200USD  102 non-null    object        \n",
      " 11  size                    102 non-null    float64       \n",
      " 12  Avg_Amount              102 non-null    float64       \n",
      " 13  price                   102 non-null    float64       \n",
      "dtypes: datetime64[ns](1), float64(3), int64(1), object(7), string(2)\n",
      "memory usage: 11.3+ KB\n"
     ]
    }
   ],
   "source": [
    "df.info()  \n",
    "#The data has no null values\n",
    "#A new column 'price' has been created\n",
    "#Data types have been changed for columns as required"
   ]
  },
  {
   "cell_type": "code",
   "execution_count": 14,
   "id": "99811d67-128e-4f42-abdf-30e0d29d1976",
   "metadata": {},
   "outputs": [
    {
     "data": {
      "text/plain": [
       "count    1.020000e+02\n",
       "mean     3.845671e+01\n",
       "std      7.140516e-15\n",
       "min      3.845671e+01\n",
       "25%      3.845671e+01\n",
       "50%      3.845671e+01\n",
       "75%      3.845671e+01\n",
       "max      3.845671e+01\n",
       "Name: price, dtype: float64"
      ]
     },
     "execution_count": 14,
     "metadata": {},
     "output_type": "execute_result"
    }
   ],
   "source": [
    "df['price'].describe()"
   ]
  },
  {
   "cell_type": "code",
   "execution_count": 15,
   "id": "dc3f37f6-0002-456e-89d2-a05341d05ed9",
   "metadata": {},
   "outputs": [
    {
     "name": "stdout",
     "output_type": "stream",
     "text": [
      "102\n"
     ]
    }
   ],
   "source": [
    "#Total Trades\n",
    "total_trades= len(df)\n",
    "print(total_trades)"
   ]
  },
  {
   "cell_type": "code",
   "execution_count": 16,
   "id": "60b22cc5-020e-4577-980b-f35f7e1b2e6b",
   "metadata": {},
   "outputs": [
    {
     "name": "stdout",
     "output_type": "stream",
     "text": [
      "<StringArray>\n",
      "['Buy', 'Sell']\n",
      "Length: 2, dtype: string\n"
     ]
    }
   ],
   "source": [
    "#Replacing values in column 'Side' to 'Sell' abd 'Buy'\n",
    "df['side'] = df['side'].replace({\"Purchase\": \"Buy\", \"Sale (Full)\": \"Sell\", \"Sale (Partial)\": \"Sell\"})\n",
    "unique_sides = df['side'].unique()\n",
    "print(unique_sides)"
   ]
  },
  {
   "cell_type": "code",
   "execution_count": 17,
   "id": "6e35d85b-1665-494a-b951-406d359641c9",
   "metadata": {},
   "outputs": [
    {
     "name": "stdout",
     "output_type": "stream",
     "text": [
      "40\n",
      "62\n"
     ]
    }
   ],
   "source": [
    "#Number of Long and Short trades\n",
    "long_trades= len(df[df['side']=='Buy'])\n",
    "print(long_trades)\n",
    "short_trades= len(df[df['side']=='Sell'])\n",
    "print(short_trades)"
   ]
  },
  {
   "cell_type": "code",
   "execution_count": 18,
   "id": "9806b8ee-4efe-4953-86ee-41d1bbab0eb8",
   "metadata": {},
   "outputs": [
    {
     "name": "stdout",
     "output_type": "stream",
     "text": [
      "owner\n",
      "Dependent    Long-Short\n",
      "Joint        Long-Short\n",
      "Self         Long-Short\n",
      "Spouse       Long-Short\n",
      "Name: symbol, dtype: object\n"
     ]
    }
   ],
   "source": [
    "#Long-Short strategy (by owners)\n",
    "long_short_strategy = df.groupby('owner')['symbol'].apply(lambda x: 'Long-Short' if len(set(x)) > 1 else 'Long Only')\n",
    "print(long_short_strategy)"
   ]
  },
  {
   "cell_type": "code",
   "execution_count": 19,
   "id": "7e26666e-dbf5-45be-8cc9-7a0503a8e478",
   "metadata": {},
   "outputs": [],
   "source": [
    "def identify_long_short(df):\n",
    "    symbols = df['symbol'].unique()\n",
    "    long_positions = df[df['side'] == 'Buy']['symbol'].unique()\n",
    "    short_positions = df[df['side'] == 'Sell']['symbol'].unique()\n",
    "        \n",
    "    if set(long_positions) & set(short_positions):\n",
    "        return 'Long-Short'\n",
    "    elif len(long_positions) > 0:\n",
    "        return 'Long Only'\n",
    "    else:\n",
    "        return 'Short Only'"
   ]
  },
  {
   "cell_type": "code",
   "execution_count": 20,
   "id": "b4f046a2-4413-403a-b869-0210e269bed2",
   "metadata": {},
   "outputs": [
    {
     "data": {
      "text/plain": [
       "'Long-Short'"
      ]
     },
     "execution_count": 20,
     "metadata": {},
     "output_type": "execute_result"
    }
   ],
   "source": [
    "identify_long_short(df)"
   ]
  },
  {
   "cell_type": "code",
   "execution_count": 21,
   "id": "b2316360-d4f5-48d4-a71f-87979bf53081",
   "metadata": {},
   "outputs": [
    {
     "name": "stdout",
     "output_type": "stream",
     "text": [
      "side\n",
      "Sell    0.607843\n",
      "Buy     0.392157\n",
      "Name: proportion, dtype: Float64\n"
     ]
    }
   ],
   "source": [
    "#Buy vs Sell percentage\n",
    "trade_type_distribution = df['side'].value_counts(normalize=True)\n",
    "print(trade_type_distribution)"
   ]
  },
  {
   "cell_type": "code",
   "execution_count": 22,
   "id": "129e46e2-3a8b-4b00-9807-292a449048f9",
   "metadata": {},
   "outputs": [
    {
     "name": "stdout",
     "output_type": "stream",
     "text": [
      "owner\n",
      "Dependent    27\n",
      "Self         26\n",
      "Joint        25\n",
      "Spouse       24\n",
      "Name: count, dtype: int64\n"
     ]
    }
   ],
   "source": [
    "#Trades per owner\n",
    "trades_per_owner = df['owner'].value_counts()\n",
    "print(trades_per_owner)"
   ]
  },
  {
   "cell_type": "code",
   "execution_count": 23,
   "id": "1c354806-b500-4851-9bd3-8ed4bf6ab387",
   "metadata": {},
   "outputs": [
    {
     "name": "stdout",
     "output_type": "stream",
     "text": [
      "capitalGainsOver200USD\n",
      "Yes    56\n",
      "No     46\n",
      "Name: count, dtype: int64\n",
      "0.5490196078431373\n",
      "capitalGainsOver200USD  No  Yes\n",
      "owner                          \n",
      "Dependent                7   20\n",
      "Joint                   13   12\n",
      "Self                    15   11\n",
      "Spouse                  11   13\n"
     ]
    }
   ],
   "source": [
    "#Capital gains over 200USD\n",
    "capital_gains_count = df['capitalGainsOver200USD'].value_counts()\n",
    "print(capital_gains_count)\n",
    "\n",
    "percentage_capital_gains = capital_gains_count.get('Yes', 0) / total_trades\n",
    "print(percentage_capital_gains)\n",
    "\n",
    "capital_gains_by_owner = df.groupby('owner')['capitalGainsOver200USD'].value_counts().unstack(fill_value=0)\n",
    "print(capital_gains_by_owner)"
   ]
  },
  {
   "cell_type": "code",
   "execution_count": 24,
   "id": "3711d38a-32da-408a-8fad-0edd15fd5e31",
   "metadata": {},
   "outputs": [
    {
     "name": "stdout",
     "output_type": "stream",
     "text": [
      "0.5490196078431373\n"
     ]
    }
   ],
   "source": [
    "percentage_capital_gains = capital_gains_count.get('Yes', 0) / total_trades\n",
    "print(percentage_capital_gains)"
   ]
  },
  {
   "cell_type": "code",
   "execution_count": 25,
   "id": "231c4d9d-f34a-4f80-acf3-6d95b11f8bff",
   "metadata": {},
   "outputs": [
    {
     "data": {
      "image/png": "[encoded data removed]",
      "text/plain": [
       "<Figure size 1000x600 with 1 Axes>"
      ]
     },
     "metadata": {},
     "output_type": "display_data"
    }
   ],
   "source": [
    "# Plotting a stacked bar plot for capital gains by owner\n",
    "capital_gains_by_owner = df.groupby('owner')['capitalGainsOver200USD'].value_counts().unstack(fill_value=0)\n",
    "capital_gains_by_owner.plot(kind='bar', stacked=True, figsize=(10, 6))\n",
    "plt.title('Capital Gains Over $200 USD by Owner')\n",
    "plt.xlabel('Owner')\n",
    "plt.ylabel('Count')\n",
    "plt.xticks(rotation=0)\n",
    "plt.legend(title='Capital Gains')\n",
    "plt.tight_layout()\n",
    "\n",
    "# Show plot\n",
    "plt.show()"
   ]
  },
  {
   "cell_type": "code",
   "execution_count": 29,
   "id": "c25feedb-5421-4d30-a589-04b53fc2a17b",
   "metadata": {},
   "outputs": [
    {
     "name": "stdout",
     "output_type": "stream",
     "text": [
      "capitalGainsOver200USD  No  Yes\n",
      "symbol                         \n",
      "AAPL                     7   17\n",
      "AMZN                     3   12\n",
      "GOOGL                   12    6\n",
      "MSFT                    16   15\n",
      "TSLA                     8    6\n"
     ]
    },
    {
     "data": {
      "image/png": "[encoded data removed]",
      "text/plain": [
       "<Figure size 1000x600 with 1 Axes>"
      ]
     },
     "metadata": {},
     "output_type": "display_data"
    }
   ],
   "source": [
    "# Plotting a stacked bar plot for capital gains by ticker\n",
    "capital_gains_by_ticker = df.groupby('symbol')['capitalGainsOver200USD'].value_counts().unstack(fill_value=0)\n",
    "print(capital_gains_by_ticker)\n",
    "capital_gains_by_ticker.plot(kind='bar', stacked=True, figsize=(10, 6))\n",
    "plt.title('Capital Gains Over $200 USD by Ticker')\n",
    "plt.xlabel('Symbol')\n",
    "plt.ylabel('Count')\n",
    "plt.xticks(rotation=0)\n",
    "plt.legend(title='Capital Gains')\n",
    "plt.tight_layout()\n",
    "\n",
    "# Show plot\n",
    "plt.show()"
   ]
  },
  {
   "cell_type": "code",
   "execution_count": 304,
   "id": "da64bd2d-0c27-4227-93aa-ff9bea33ac72",
   "metadata": {},
   "outputs": [
    {
     "name": "stdout",
     "output_type": "stream",
     "text": [
      "39.53921568627451\n",
      "Date\n",
      "2022-01    1\n",
      "2022-02    2\n",
      "2022-03    8\n",
      "2022-04    3\n",
      "2022-05    6\n",
      "2022-06    5\n",
      "2022-07    4\n",
      "2022-08    5\n",
      "2022-09    5\n",
      "2022-10    8\n",
      "2022-11    3\n",
      "2022-12    3\n",
      "2023-01    8\n",
      "2023-02    2\n",
      "2023-03    6\n",
      "2023-04    4\n",
      "2023-05    4\n",
      "2023-06    3\n",
      "2023-07    5\n",
      "2023-08    3\n",
      "2023-09    2\n",
      "2023-10    3\n",
      "2023-11    3\n",
      "2023-12    6\n",
      "Freq: M, Name: count, dtype: int64\n"
     ]
    },
    {
     "data": {
      "text/plain": [
       "Text(0.5, 1.0, 'Trades Over Time')"
      ]
     },
     "execution_count": 304,
     "metadata": {},
     "output_type": "execute_result"
    },
    {
     "data": {
      "image/png": "[encoded data removed]",
      "text/plain": [
       "<Figure size 1000x600 with 1 Axes>"
      ]
     },
     "metadata": {},
     "output_type": "display_data"
    }
   ],
   "source": [
    "#Holding period and Trades over time\n",
    "\n",
    "df['disclosureDate']=pd.to_datetime(df['disclosureDate'])\n",
    "df['holding_period'] = (df['disclosureDate'] - df['Date']).dt.days\n",
    "average_holding_period = df['holding_period'].mean()\n",
    "print(average_holding_period)\n",
    "trades_over_time = df['Date'].dt.to_period('M').value_counts().sort_index()\n",
    "print(trades_over_time)\n",
    "\n",
    "#Plotting Trades over Time\n",
    "trades_over_time.plot(kind='line', figsize=(10, 6))\n",
    "plt.title('Trades Over Time')"
   ]
  },
  {
   "cell_type": "code",
   "execution_count": 305,
   "id": "e10984a6-c632-40cc-8d2f-372df827842e",
   "metadata": {},
   "outputs": [
    {
     "name": "stdout",
     "output_type": "stream",
     "text": [
      "owner\n",
      "Dependent    Long-Short\n",
      "Joint        Long-Short\n",
      "Self         Long-Short\n",
      "Spouse       Long-Short\n",
      "dtype: object\n"
     ]
    }
   ],
   "source": [
    "#Trade strategies by owners\n",
    "long_short_strategy = df.groupby('owner').apply(identify_long_short, include_groups= False)\n",
    "print(long_short_strategy)"
   ]
  },
  {
   "cell_type": "code",
   "execution_count": 340,
   "id": "165b0583-d1de-42d1-b94f-314690c020a8",
   "metadata": {},
   "outputs": [],
   "source": [
    "#Function to compute financial metrics\n",
    "def compute_metrics(df):\n",
    "    metrics = {}\n",
    "    \n",
    "    # Check if DataFrame is empty\n",
    "    if df.empty:\n",
    "        print(\"The DataFrame is empty. No metrics to compute.\")\n",
    "        return {}\n",
    "    \n",
    "    # Filter long and short positions\n",
    "    long_strategy = df[df['side'] == 'Buy']\n",
    "    short_strategy = df[df['side'].isin(['Sell'])]\n",
    "    \n",
    "    # Handle missing values\n",
    "    df = df.fillna(method='ffill').fillna(method='bfill')\n",
    "    \n",
    "    if not long_strategy.empty:\n",
    "        metrics['Long Total Return'] = long_strategy['Avg_Amount'].sum()\n",
    "        metrics['Long Win Rate'] = len(long_strategy[long_strategy['Avg_Amount'] > 0]) / len(long_strategy)\n",
    "        metrics['Long Average Profit per Trade'] = long_strategy['Avg_Amount'].mean()\n",
    "    \n",
    "    if not short_strategy.empty:\n",
    "        metrics['Short Total Return'] = short_strategy['Avg_Amount'].sum()\n",
    "        metrics['Short Win Rate'] = len(short_strategy[short_strategy['Avg_Amount'] > 0]) / len(short_strategy)\n",
    "        metrics['Short Average Profit per Trade'] = short_strategy['Avg_Amount'].mean()\n",
    "    \n",
    "    # Placeholder calculations for additional metrics\n",
    "    long_short_strategy = df.groupby('side')['Avg_Amount'].sum()\n",
    "    # trades_over_time = df.groupby('Date').size()\n",
    "    trades_over_time = df.groupby(pd.Grouper(key='Date', freq='M')).size()\n",
    "    percentage_capital_gains = (df[df['capitalGainsOver200USD'] == 'Yes'].shape[0] / df.shape[0]) * 100\n",
    "    capital_gains_by_owner_abs = df[df['capitalGainsOver200USD'] == 'Yes'].groupby('owner')['Avg_Amount'].sum()\n",
    "    total_gains_by_owner = df.groupby('owner')['Avg_Amount'].sum()\n",
    "    capital_gains_by_owner_prcnt=  (capital_gains_by_owner_abs / total_gains_by_owner) * 100\n",
    "\n",
    "    capital_gains_by_owner = {\n",
    "        'absolute': capital_gains_by_owner_abs.to_dict(),\n",
    "        'percentage': capital_gains_by_owner_prcnt.to_dict()\n",
    "    }\n",
    "\n",
    "    metrics.update({\n",
    "        'Long-Short Strategy': long_short_strategy.to_dict(),\n",
    "        'Trades Over Time': trades_over_time.to_dict(),\n",
    "        'Percentage of Trades with Capital Gains': percentage_capital_gains,\n",
    "        'Capital Gains by Owner': capital_gains_by_owner\n",
    "    })\n",
    "    \n",
    "    return metrics\n"
   ]
  },
  {
   "cell_type": "code",
   "execution_count": 341,
   "id": "5a943119-cfaf-4078-8947-9fcb2bcf2049",
   "metadata": {},
   "outputs": [
    {
     "name": "stderr",
     "output_type": "stream",
     "text": [
      "C:\\Users\\MSI\\AppData\\Local\\Temp\\ipykernel_11384\\2991992708.py:14: FutureWarning: DataFrame.fillna with 'method' is deprecated and will raise in a future version. Use obj.ffill() or obj.bfill() instead.\n",
      "  df = df.fillna(method='ffill').fillna(method='bfill')\n",
      "C:\\Users\\MSI\\AppData\\Local\\Temp\\ipykernel_11384\\2991992708.py:29: FutureWarning: 'M' is deprecated and will be removed in a future version, please use 'ME' instead.\n",
      "  trades_over_time = df.groupby(pd.Grouper(key='Date', freq='M')).size()\n"
     ]
    },
    {
     "data": {
      "text/plain": [
       "{'Long Total Return': np.float64(4398520.0),\n",
       " 'Long Win Rate': 1.0,\n",
       " 'Long Average Profit per Trade': np.float64(109963.0),\n",
       " 'Short Total Return': np.float64(8677531.0),\n",
       " 'Short Win Rate': 1.0,\n",
       " 'Short Average Profit per Trade': np.float64(139960.17741935485),\n",
       " 'Long-Short Strategy': {'Buy': 4398520.0, 'Sell': 8677531.0},\n",
       " 'Trades Over Time': {Timestamp('2022-01-31 00:00:00'): 1,\n",
       "  Timestamp('2022-02-28 00:00:00'): 2,\n",
       "  Timestamp('2022-03-31 00:00:00'): 8,\n",
       "  Timestamp('2022-04-30 00:00:00'): 3,\n",
       "  Timestamp('2022-05-31 00:00:00'): 6,\n",
       "  Timestamp('2022-06-30 00:00:00'): 5,\n",
       "  Timestamp('2022-07-31 00:00:00'): 4,\n",
       "  Timestamp('2022-08-31 00:00:00'): 5,\n",
       "  Timestamp('2022-09-30 00:00:00'): 5,\n",
       "  Timestamp('2022-10-31 00:00:00'): 8,\n",
       "  Timestamp('2022-11-30 00:00:00'): 3,\n",
       "  Timestamp('2022-12-31 00:00:00'): 3,\n",
       "  Timestamp('2023-01-31 00:00:00'): 8,\n",
       "  Timestamp('2023-02-28 00:00:00'): 2,\n",
       "  Timestamp('2023-03-31 00:00:00'): 6,\n",
       "  Timestamp('2023-04-30 00:00:00'): 4,\n",
       "  Timestamp('2023-05-31 00:00:00'): 4,\n",
       "  Timestamp('2023-06-30 00:00:00'): 3,\n",
       "  Timestamp('2023-07-31 00:00:00'): 5,\n",
       "  Timestamp('2023-08-31 00:00:00'): 3,\n",
       "  Timestamp('2023-09-30 00:00:00'): 2,\n",
       "  Timestamp('2023-10-31 00:00:00'): 3,\n",
       "  Timestamp('2023-11-30 00:00:00'): 3,\n",
       "  Timestamp('2023-12-31 00:00:00'): 6},\n",
       " 'Percentage of Trades with Capital Gains': 54.90196078431373,\n",
       " 'Capital Gains by Owner': {'absolute': {'Dependent': 2628010.0,\n",
       "   'Joint': 996006.0,\n",
       "   'Self': 1481505.5,\n",
       "   'Spouse': 1697506.5},\n",
       "  'percentage': {'Dependent': 90.88700433181445,\n",
       "   'Joint': 39.705044324076525,\n",
       "   'Self': 37.07459159917648,\n",
       "   'Spouse': 46.127743605183895}}}"
      ]
     },
     "execution_count": 341,
     "metadata": {},
     "output_type": "execute_result"
    }
   ],
   "source": [
    "compute_metrics(df)"
   ]
  },
  {
   "cell_type": "code",
   "execution_count": null,
   "id": "da5ac2be-88ad-4621-9769-abe6d5dd29b8",
   "metadata": {},
   "outputs": [],
   "source": [
    "'''\n",
    "Interpretation\n",
    "\n",
    "-Out of the total 102 trades, 40 were long stratey trades, while 62 were short trades, when grouped on the basis of 'Buy' as long strategy and 'Sell' \n",
    "as short strategy. Upon further ananlysis, it was found that all the owners had a long-short strategy and not purely long or short strategy. Nearly\n",
    "60% of all trades involved selling of securities, leaving about 40% of trades involving purchase. Nearly 55% of all trades recorded capital gains \n",
    "over 200 USD. While trades per owner do not differ significantly in number, capital gains per owner differ signicantly, with 'dependent' owner recording\n",
    "the highest proportion of capital gain.  \n",
    "Accounting for capital gains by ticker, Apple Inc. Stock shows capital gains over 200 USD for around 70% of all tranasactions, Amazon 80% and Microsoft \n",
    "showing gains for about 48% trades. Only a third of all trade in Alphabet Inc. Stock and 42% of TSLA Stock show capital gains over 200 USD. \n",
    "Interestingly, number of transactions see a sharp increase around new year, followed by a sharp decline over the first quarter of the year and stabilizing\n",
    "over the rest of the year. Total returns from long position are significantly higher than returns from short positions; which explains that the long-short\n",
    "strategy by the owners is a smart move. \n",
    "Average profit per trade does not differ significantly in long and short positions. In percentage terms, capital gains by dependent are highest at 90% \n",
    "and the value is lowest for self at 37%. \n",
    "Overall, the analysis reveals that returns in short and long positions significantly differ (higher returns in short positions), the long-short strategy\n",
    "by owners helps stabilize the volatility of returns. However, apart from trade strategy, capital gains significantly depend on the choice of assets \n",
    "traded, with Amazon Stock performing the best and Alphabet Inc. showing the least returns. \n",
    "'''"
   ]
  }
 ],
 "metadata": {
  "kernelspec": {
   "display_name": "Python 3 (ipykernel)",
   "language": "python",
   "name": "python3"
  },
  "language_info": {
   "codemirror_mode": {
    "name": "ipython",
    "version": 3
   },
   "file_extension": ".py",
   "mimetype": "text/x-python",
   "name": "python",
   "nbconvert_exporter": "python",
   "pygments_lexer": "ipython3",
   "version": "3.12.4"
  }
 },
 "nbformat": 4,
 "nbformat_minor": 5
}
